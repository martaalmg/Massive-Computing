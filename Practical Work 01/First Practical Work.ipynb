{
 "cells": [
  {
   "cell_type": "markdown",
   "metadata": {},
   "source": [
    "# First Practical Work\n",
    "\n",
    "## Data Science and Engineering\n",
    "\n",
    "### DESIGN OF AN IMAGE FILTER FUNCTION, PARALLELIZABLE AND SCALABLE"
   ]
  },
  {
   "cell_type": "markdown",
   "metadata": {},
   "source": [
    "**Full name:** MARTA ALMAGRO FUELLO  \n",
    "**NIA** : 100451979   \n",
    "\n",
    "\n",
    "**Full name:** GRACIA ESTRAN BUYO    \n",
    "**NIA** : 100452014"
   ]
  },
  {
   "cell_type": "code",
   "execution_count": null,
   "metadata": {},
   "outputs": [],
   "source": [
    "import numpy as np\n",
    "import multiprocessing as mp\n",
    "from PIL import Image\n",
    "import matplotlib.pyplot as plt\n",
    "import matplotlib.image as mpimg\n",
    "import cProfile\n",
    "from multiprocessing.sharedctypes import Value, Array, RawArray\n",
    "from multiprocessing import Process, Lock\n",
    "import ctypes\n",
    "import myfunctions as my"
   ]
  },
  {
   "cell_type": "code",
   "execution_count": null,
   "metadata": {},
   "outputs": [],
   "source": [
    "F_IMAGE1 = \"hand-x-ray.jpg\" \n",
    "F_IMAGE2 = \"fence.jpg\" \n",
    "F_IMAGE3 = \"chess.jpg\" \n",
    "F_IMAGE4 = \"digits.jpg\" \n",
    "F_IMAGE5 = \"cloudsonjupi.jpg\" "
   ]
  },
  {
   "cell_type": "code",
   "execution_count": null,
   "metadata": {},
   "outputs": [],
   "source": [
    "image1 = np.array(Image.open(F_IMAGE1)) \n",
    "image2 = np.array(Image.open(F_IMAGE2)) "
   ]
  },
  {
   "cell_type": "code",
   "execution_count": null,
   "metadata": {},
   "outputs": [],
   "source": [
    "filter1 = np.array([\n",
    "    [0,0,0,0,0],\n",
    "    [0,0,0,0,0],\n",
    "    [0,0,1,0,0],\n",
    "    [0,0,0,0,0],\n",
    "    [0,0,0,0,0]])\n",
    "\n",
    "filter2 = np.array([0.5, 0 , -0.5])\n",
    "\n",
    "filter3 = np.array([[0.5],[0],[0.5]])  \n",
    "\n",
    "filter4 = np.array([\n",
    "    [1,0,-1],\n",
    "    [2,0,-2],\n",
    "    [1,0,-1]])\n",
    "\n",
    "filter5 = np.array([\n",
    "    [0.00078633,0.00655965,0.01330373,0.00655965,0.00078633],\n",
    "    [0.00655965,0.05472157,0.11098164,0.05472157,0.00655965],\n",
    "    [0.01330373,0.11098164,0.22508352,0.11098164,0.01330373],\n",
    "    [0.00655965,0.05472157,0.11098164,0.05472157,0.00655965],\n",
    "    [0.00078633,0.00655965,0.01330373,0.00655965,0.00078633]])\n"
   ]
  },
  {
   "cell_type": "code",
   "execution_count": null,
   "metadata": {},
   "outputs": [],
   "source": [
    "NUMPROCESS = 4"
   ]
  },
  {
   "cell_type": "code",
   "execution_count": null,
   "metadata": {},
   "outputs": [],
   "source": [
    "def tonumpyarray(mp_arr):\n",
    "    #mp_array is a shared memory array with lock\n",
    "    \n",
    "    return np.frombuffer(mp_arr.get_obj(), dtype = np.uint8)"
   ]
  },
  {
   "cell_type": "markdown",
   "metadata": {},
   "source": [
    "# AFTER THIS CELL YOU HAVE TO WRITE YOUR CODE\n",
    "\n",
    "After this cell you have to use the preloaded image defined in the F_IMAGE variable, select two of the 5 filter predefined, and using the NUMPROCESS processors, apply the filters to the image and check results.\n",
    "\n",
    "* The first filter is impulse response filter (the image output must be equals to the original one).\n",
    "* The second filter is an edge filter, first order in x axis,  \n",
    "* The third filter is an edge filter, first order in y axis,\n",
    "* the fourth filter is an edge filter, second order, bi-directional\n",
    "* the fifth filter is a blur gausian filter."
   ]
  },
  {
   "cell_type": "markdown",
   "metadata": {},
   "source": [
    "## First Part"
   ]
  },
  {
   "cell_type": "markdown",
   "metadata": {},
   "source": [
    "### Define the variables for part 1:\n",
    "\n",
    "We are going to prepare the data in order to parallelize the image filtering process. \n",
    "Fisrtly we declare the image and filter used and plot it to visualize how it is the original picture.\n"
   ]
  },
  {
   "cell_type": "code",
   "execution_count": null,
   "metadata": {},
   "outputs": [],
   "source": [
    "image = np.array(Image.open(F_IMAGE1))\n",
    "my_filter = filter3"
   ]
  },
  {
   "cell_type": "code",
   "execution_count": null,
   "metadata": {},
   "outputs": [],
   "source": [
    "print('This is the original image')\n",
    "plt.figure()\n",
    "plt.imshow(image)"
   ]
  },
  {
   "cell_type": "markdown",
   "metadata": {},
   "source": [
    "The function \"image_filter\" will receive the original image, the filter mask, the number of processors and a multiprocessing array. This last input is a shared memory with locks where the filtered image is going to be stored. \n",
    "The shared instance has to be created before running the function, because of that, the number of bytes in the image has to be calculated."
   ]
  },
  {
   "cell_type": "code",
   "execution_count": null,
   "metadata": {},
   "outputs": [],
   "source": [
    "data_buffer_size = image.shape[0] * image.shape[1] * image.shape[2] # Number of bytes\n",
    "\n",
    "# Create the shared space with the right size\n",
    "filtered_image_VECTOR = Array(ctypes.c_byte, data_buffer_size)\n",
    "\n",
    "# Convert to an array and reshaped to a matrix\n",
    "filtered_image = tonumpyarray(filtered_image_VECTOR).reshape(image.shape) \n"
   ]
  },
  {
   "cell_type": "markdown",
   "metadata": {},
   "source": [
    "The number of bytes is to create a c type array, that will be a vector and it will be used as shared space. Then it is converted to a NumPy variable (by using the function tonumpyarray) to use it with python syntax and reshaped to treat the image as a matrix, where the filtered image will be saved."
   ]
  },
  {
   "cell_type": "markdown",
   "metadata": {},
   "source": [
    "To avoid any race condition we create the lock instance and to start the parallelizing process we call the parallel_filter1. The method parallel_filter1 will have as goal to distribute the work between the processors and invoke the function that creates the global variables in a separated execution (init_globalimage1).\n"
   ]
  },
  {
   "cell_type": "code",
   "execution_count": null,
   "metadata": {},
   "outputs": [],
   "source": [
    "def image_filter(image, filter_mask, numprocessors, filtered_image):\n",
    "\n",
    "    lock = mp.Lock() # We create a lock instance\n",
    "    my.parallel_filter(image, filtered_image, filter_mask, numprocessors, lock) \n",
    "    # We define the process    "
   ]
  },
  {
   "cell_type": "markdown",
   "metadata": {},
   "source": [
    "With the needed shared memory matrix created, the function image_filter can be called."
   ]
  },
  {
   "cell_type": "code",
   "execution_count": null,
   "metadata": {},
   "outputs": [],
   "source": [
    "import importlib\n",
    "importlib.reload(my)\n",
    "\n",
    "image_filter(image, my_filter, NUMPROCESS, filtered_image_VECTOR)"
   ]
  },
  {
   "cell_type": "code",
   "execution_count": null,
   "metadata": {},
   "outputs": [],
   "source": [
    "plt.figure()\n",
    "plt.imshow(filtered_image)"
   ]
  },
  {
   "cell_type": "markdown",
   "metadata": {},
   "source": [
    "## Second Part"
   ]
  },
  {
   "cell_type": "markdown",
   "metadata": {},
   "source": [
    "On the other hand, in the second part there are two filters used therefore two memory spaces have to be established to use multiprocessor parallelized process."
   ]
  },
  {
   "cell_type": "code",
   "execution_count": null,
   "metadata": {},
   "outputs": [],
   "source": [
    "image = np.array(Image.open(F_IMAGE1))\n",
    "\n",
    "data_buffer_size = image.shape[0] * image.shape[1] * image.shape[2] \n",
    "\n",
    "# Create both shared spaces with the right size\n",
    "shared_space1 = Array(ctypes.c_byte, data_buffer_size) \n",
    "shared_space2 = Array(ctypes.c_byte, data_buffer_size)\n",
    "\n",
    "filtered1_image_VECTOR = tonumpyarray(shared_space1).reshape(image.shape)\n",
    "filtered2_image_VECTOR = tonumpyarray(shared_space2).reshape(image.shape)\n"
   ]
  },
  {
   "cell_type": "markdown",
   "metadata": {},
   "source": [
    "The next function will invoke 2 different parallel processes and will use half\n",
    "of the processors supplied to filter the image and store the two results in each shared memory definitions. The previous defined function will be called and will wait to both filters finished before return the control. "
   ]
  },
  {
   "cell_type": "code",
   "execution_count": null,
   "metadata": {},
   "outputs": [],
   "source": [
    "first_filter = filter3\n",
    "second_filter = filter4"
   ]
  },
  {
   "cell_type": "markdown",
   "metadata": {},
   "source": [
    "The method will divide by two the total number of processors in order to give one half to each process that filters the image with the correpondent filter. \n",
    "As in the last task we create the lock instance, but as this one is a multiprocessor process we also have to declare when they start and wait."
   ]
  },
  {
   "cell_type": "code",
   "execution_count": null,
   "metadata": {},
   "outputs": [],
   "source": [
    "def filters_execution(image, filter_mask1, filter_mask2,\n",
    "                      numprocessors, filtered_image1, filtered_image2): \n",
    "\n",
    "    numprocess = numprocessors//2\n",
    "    lock = mp.Lock()\n",
    "    p1 = mp.Process(target = my.parallel_filter,\n",
    "                 args = (image, filtered_image1, filter_mask1, numprocess, lock)) \n",
    "    p2 = mp.Process(target = my.parallel_filter,\n",
    "                 args = (image, filtered_image2, filter_mask2, numprocess, lock))\n",
    "    \n",
    "    # Start both processes in parallel\n",
    "    p1.start()\n",
    "    p2.start()\n",
    "    \n",
    "    # Wait until both parallel tasks finish\n",
    "    p1.join()\n",
    "    p2.join()"
   ]
  },
  {
   "cell_type": "code",
   "execution_count": null,
   "metadata": {},
   "outputs": [],
   "source": [
    "filters_execution(image, first_filter, second_filter, NUMPROCESS, shared_space1, shared_space2)"
   ]
  },
  {
   "cell_type": "code",
   "execution_count": null,
   "metadata": {},
   "outputs": [],
   "source": [
    "plt.imshow(image)\n",
    "plt.imshow(filtered1_image_VECTOR)"
   ]
  },
  {
   "cell_type": "code",
   "execution_count": null,
   "metadata": {},
   "outputs": [],
   "source": [
    "plt.imshow(image)\n",
    "plt.imshow(filtered2_image_VECTOR)"
   ]
  },
  {
   "cell_type": "markdown",
   "metadata": {},
   "source": [
    "## Conclusions\n",
    "\n",
    "\n"
   ]
  },
  {
   "cell_type": "markdown",
   "metadata": {},
   "source": [
    "We are distributing the task in the number of processors the computer has, in our case, 4, this smart way to use the processors makes the time of process to decrease. As the filtering problem does not imply that a cell has to wait to the previous cell (for example) to start the filtering process in the current one and we are able to make those process parallel and take advantage of the computer's processors. \n",
    "\n",
    "Furthermore, in the second part we are not only taking advantage of the processors we are also creating two parallel processes that perform different and have independent tasks, because each process have a different filter which means one of them could have a longer/bigger filter and will need more time. However the image will be the same and as it is independent task we could be filtering the image with the two filters at the same time, assigning to each process half of the processors that our computer has. Therefore each process will use in our case 2 processors.\n",
    "\n",
    "Also as the instructions are telling us to keep it in a shared memory with locks so it does not run without control, destroying the previous data stored in the shared memory area, we placed where they are because there is where they can control correctly both parallel independent tasks.\n"
   ]
  },
  {
   "cell_type": "code",
   "execution_count": null,
   "metadata": {},
   "outputs": [],
   "source": []
  }
 ],
 "metadata": {
  "kernelspec": {
   "display_name": "Python 3",
   "language": "python",
   "name": "python3"
  },
  "language_info": {
   "codemirror_mode": {
    "name": "ipython",
    "version": 3
   },
   "file_extension": ".py",
   "mimetype": "text/x-python",
   "name": "python",
   "nbconvert_exporter": "python",
   "pygments_lexer": "ipython3",
   "version": "3.8.8"
  }
 },
 "nbformat": 4,
 "nbformat_minor": 4
}
